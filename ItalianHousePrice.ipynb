{
  "cells": [
    {
      "cell_type": "markdown",
      "id": "620f5748",
      "metadata": {
        "id": "620f5748"
      },
      "source": [
        "# Laboratorio finale - Analisi di un dataset immobiliare\n",
        "## Frattini Francesco e Fiocchi Gabriele"
      ]
    },
    {
      "cell_type": "code",
      "execution_count": null,
      "id": "b3449746",
      "metadata": {
        "id": "b3449746"
      },
      "outputs": [],
      "source": [
        "import pandas as pd\n",
        "import matplotlib.pyplot as plt\n",
        "import numpy as np\n",
        "import scipy.stats as stats"
      ]
    },
    {
      "cell_type": "code",
      "execution_count": null,
      "id": "12a3b616",
      "metadata": {
        "id": "12a3b616",
        "outputId": "b148efd9-c529-4c92-9943-c97be70db896"
      },
      "outputs": [
        {
          "name": "stderr",
          "output_type": "stream",
          "text": [
            "/tmp/ipykernel_69098/3134894388.py:1: DtypeWarning: Columns (23,24,25,26,27,29,30,31,32,33,34) have mixed types. Specify dtype option on import or set low_memory=False.\n",
            "  dataset = pd.read_csv(\"Italian_house_price.csv\")\n"
          ]
        }
      ],
      "source": [
        "dataset = pd.read_csv(\"Italian_house_price.csv\")"
      ]
    },
    {
      "cell_type": "code",
      "execution_count": null,
      "id": "6265dd13",
      "metadata": {
        "scrolled": false,
        "id": "6265dd13",
        "outputId": "af3e0673-4def-4093-ef7c-e91eeebf26a6"
      },
      "outputs": [
        {
          "name": "stdout",
          "output_type": "stream",
          "text": [
            "<class 'pandas.core.frame.DataFrame'>\n",
            "RangeIndex: 37087 entries, 0 to 37086\n",
            "Data columns (total 37 columns):\n",
            " #   Column                                        Non-Null Count  Dtype  \n",
            "---  ------                                        --------------  -----  \n",
            " 0   prezzo                                        37087 non-null  object \n",
            " 1   stanze                                        37071 non-null  object \n",
            " 2   m2                                            36937 non-null  object \n",
            " 3   bagni                                         36556 non-null  object \n",
            " 4   piano                                         36375 non-null  object \n",
            " 5   description                                   37082 non-null  object \n",
            " 6   Riferimento e Data annuncio                   37087 non-null  object \n",
            " 7   contratto                                     37087 non-null  object \n",
            " 8   tipologia                                     37087 non-null  object \n",
            " 9   superficie                                    35946 non-null  object \n",
            " 10  locali                                        35814 non-null  object \n",
            " 11  totale piani edificio                         34354 non-null  object \n",
            " 12  disponibilità                                 29485 non-null  object \n",
            " 13  other_characteristics                         28512 non-null  object \n",
            " 14  citta                                         37080 non-null  object \n",
            " 15  quartiere                                     35154 non-null  object \n",
            " 16  href                                          37087 non-null  object \n",
            " 17  regione                                       37087 non-null  object \n",
            " 18  Posti Auto                                    19661 non-null  object \n",
            " 19  via                                           18889 non-null  object \n",
            " 20  unità                                         1012 non-null   object \n",
            " 21  Data di inizio lavori e di consegna prevista  1048 non-null   object \n",
            " 22  Uso edificio attuale                          254 non-null    object \n",
            " 23  altre caratteristiche                         8575 non-null   object \n",
            " 24  spese condominio                              6086 non-null   object \n",
            " 25  cauzione                                      8575 non-null   object \n",
            " 26  stato                                         8013 non-null   object \n",
            " 27  Efficienza energetica                         6131 non-null   object \n",
            " 28  anno di costruzione                           3761 non-null   float64\n",
            " 29  riscaldamento                                 6336 non-null   object \n",
            " 30  Climatizzatore                                4044 non-null   object \n",
            " 31  certificazione energetica                     1981 non-null   object \n",
            " 32  Indice prest. energetica rinnovabile          197 non-null    object \n",
            " 33  Prestazione energetica del fabbricato         795 non-null    object \n",
            " 34  spese aggiuntive                              9 non-null      object \n",
            " 35  Dati catastali                                161 non-null    object \n",
            " 36  Altri dati catastali                          77 non-null     object \n",
            "dtypes: float64(1), object(36)\n",
            "memory usage: 10.5+ MB\n"
          ]
        }
      ],
      "source": [
        "dataset.info()"
      ]
    },
    {
      "cell_type": "code",
      "execution_count": null,
      "id": "7ea0f985",
      "metadata": {
        "id": "7ea0f985",
        "outputId": "a48b774c-9e13-4578-f518-3ba59f7e1077"
      },
      "outputs": [
        {
          "name": "stdout",
          "output_type": "stream",
          "text": [
            "0         67 m² - Vedi dettaglio\n",
            "1         75 m² - Vedi dettaglio\n",
            "2                         160 m²\n",
            "3                         136 m²\n",
            "4        105 m² - Vedi dettaglio\n",
            "                  ...           \n",
            "37082    110 m² - Vedi dettaglio\n",
            "37083                     180 m²\n",
            "37084     70 m² - Vedi dettaglio\n",
            "37085     55 m² - Vedi dettaglio\n",
            "37086                     176 m²\n",
            "Name: superficie, Length: 37087, dtype: object\n",
            "0         67m²\n",
            "1         75m²\n",
            "2        160m²\n",
            "3        136m²\n",
            "4        105m²\n",
            "         ...  \n",
            "37082    110m²\n",
            "37083    180m²\n",
            "37084     70m²\n",
            "37085     55m²\n",
            "37086    176m²\n",
            "Name: m2, Length: 37087, dtype: object\n"
          ]
        }
      ],
      "source": [
        "print(dataset['superficie'])\n",
        "print(dataset['m2'])"
      ]
    },
    {
      "cell_type": "code",
      "execution_count": null,
      "id": "330fd55e",
      "metadata": {
        "id": "330fd55e",
        "outputId": "8ef70b9a-7856-40b7-d638-1a2be8f4e95e"
      },
      "outputs": [
        {
          "name": "stdout",
          "output_type": "stream",
          "text": [
            "<class 'pandas.core.frame.DataFrame'>\n",
            "RangeIndex: 37087 entries, 0 to 37086\n",
            "Data columns (total 19 columns):\n",
            " #   Column                       Non-Null Count  Dtype \n",
            "---  ------                       --------------  ----- \n",
            " 0   prezzo                       37087 non-null  object\n",
            " 1   stanze                       37071 non-null  object\n",
            " 2   m2                           36937 non-null  object\n",
            " 3   bagni                        36556 non-null  object\n",
            " 4   piano                        36375 non-null  object\n",
            " 5   description                  37082 non-null  object\n",
            " 6   Riferimento e Data annuncio  37087 non-null  object\n",
            " 7   contratto                    37087 non-null  object\n",
            " 8   tipologia                    37087 non-null  object\n",
            " 9   locali                       35814 non-null  object\n",
            " 10  totale piani edificio        34354 non-null  object\n",
            " 11  disponibilità                29485 non-null  object\n",
            " 12  other_characteristics        28512 non-null  object\n",
            " 13  citta                        37080 non-null  object\n",
            " 14  quartiere                    35154 non-null  object\n",
            " 15  href                         37087 non-null  object\n",
            " 16  regione                      37087 non-null  object\n",
            " 17  Posti Auto                   19661 non-null  object\n",
            " 18  via                          18889 non-null  object\n",
            "dtypes: object(19)\n",
            "memory usage: 5.4+ MB\n"
          ]
        }
      ],
      "source": [
        "columns_to_drop = [9, 20, 21, 22, 23, 24, 25, 26, 27, 28, 29, 30, 31, 32, 33, 34, 35, 36]\n",
        "dataset = dataset.drop(dataset.columns[columns_to_drop], axis = 1)\n",
        "dataset.info()"
      ]
    },
    {
      "cell_type": "code",
      "execution_count": null,
      "id": "52bab2df",
      "metadata": {
        "id": "52bab2df"
      },
      "outputs": [],
      "source": []
    },
    {
      "cell_type": "code",
      "execution_count": null,
      "id": "034cb294",
      "metadata": {
        "id": "034cb294"
      },
      "outputs": [],
      "source": []
    }
  ],
  "metadata": {
    "kernelspec": {
      "display_name": "IDSvenv",
      "language": "python",
      "name": "idsvenv"
    },
    "language_info": {
      "codemirror_mode": {
        "name": "ipython",
        "version": 3
      },
      "file_extension": ".py",
      "mimetype": "text/x-python",
      "name": "python",
      "nbconvert_exporter": "python",
      "pygments_lexer": "ipython3",
      "version": "3.12.3"
    },
    "colab": {
      "provenance": []
    }
  },
  "nbformat": 4,
  "nbformat_minor": 5
}