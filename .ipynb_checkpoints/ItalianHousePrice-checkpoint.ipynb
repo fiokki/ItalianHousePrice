{
 "cells": [
  {
   "cell_type": "markdown",
   "id": "620f5748",
   "metadata": {},
   "source": [
    "# Laboratorio finale - Analisi di un dataset immobiliare\n",
    "## Frattini Francesco e Fiocchi Gabriele"
   ]
  },
  {
   "cell_type": "code",
   "execution_count": 1,
   "id": "b3449746",
   "metadata": {},
   "outputs": [],
   "source": [
    "import pandas as pd\n",
    "import matplotlib.pyplot as plt\n",
    "import numpy as np\n",
    "import scipy.stats as stats"
   ]
  },
  {
   "cell_type": "code",
   "execution_count": 2,
   "id": "12a3b616",
   "metadata": {},
   "outputs": [
    {
     "name": "stderr",
     "output_type": "stream",
     "text": [
      "/tmp/ipykernel_20351/3134894388.py:1: DtypeWarning: Columns (23,24,25,26,27,29,30,31,32,33,34) have mixed types. Specify dtype option on import or set low_memory=False.\n",
      "  dataset = pd.read_csv(\"Italian_house_price.csv\")\n"
     ]
    }
   ],
   "source": [
    "dataset = pd.read_csv(\"Italian_house_price.csv\")"
   ]
  },
  {
   "cell_type": "code",
   "execution_count": 3,
   "id": "6265dd13",
   "metadata": {
    "scrolled": false
   },
   "outputs": [
    {
     "name": "stdout",
     "output_type": "stream",
     "text": [
      "<class 'pandas.core.frame.DataFrame'>\n",
      "RangeIndex: 37087 entries, 0 to 37086\n",
      "Data columns (total 37 columns):\n",
      " #   Column                                        Non-Null Count  Dtype  \n",
      "---  ------                                        --------------  -----  \n",
      " 0   prezzo                                        37087 non-null  object \n",
      " 1   stanze                                        37071 non-null  object \n",
      " 2   m2                                            36937 non-null  object \n",
      " 3   bagni                                         36556 non-null  object \n",
      " 4   piano                                         36375 non-null  object \n",
      " 5   description                                   37082 non-null  object \n",
      " 6   Riferimento e Data annuncio                   37087 non-null  object \n",
      " 7   contratto                                     37087 non-null  object \n",
      " 8   tipologia                                     37087 non-null  object \n",
      " 9   superficie                                    35946 non-null  object \n",
      " 10  locali                                        35814 non-null  object \n",
      " 11  totale piani edificio                         34354 non-null  object \n",
      " 12  disponibilità                                 29485 non-null  object \n",
      " 13  other_characteristics                         28512 non-null  object \n",
      " 14  citta                                         37080 non-null  object \n",
      " 15  quartiere                                     35154 non-null  object \n",
      " 16  href                                          37087 non-null  object \n",
      " 17  regione                                       37087 non-null  object \n",
      " 18  Posti Auto                                    19661 non-null  object \n",
      " 19  via                                           18889 non-null  object \n",
      " 20  unità                                         1012 non-null   object \n",
      " 21  Data di inizio lavori e di consegna prevista  1048 non-null   object \n",
      " 22  Uso edificio attuale                          254 non-null    object \n",
      " 23  altre caratteristiche                         8575 non-null   object \n",
      " 24  spese condominio                              6086 non-null   object \n",
      " 25  cauzione                                      8575 non-null   object \n",
      " 26  stato                                         8013 non-null   object \n",
      " 27  Efficienza energetica                         6131 non-null   object \n",
      " 28  anno di costruzione                           3761 non-null   float64\n",
      " 29  riscaldamento                                 6336 non-null   object \n",
      " 30  Climatizzatore                                4044 non-null   object \n",
      " 31  certificazione energetica                     1981 non-null   object \n",
      " 32  Indice prest. energetica rinnovabile          197 non-null    object \n",
      " 33  Prestazione energetica del fabbricato         795 non-null    object \n",
      " 34  spese aggiuntive                              9 non-null      object \n",
      " 35  Dati catastali                                161 non-null    object \n",
      " 36  Altri dati catastali                          77 non-null     object \n",
      "dtypes: float64(1), object(36)\n",
      "memory usage: 10.5+ MB\n"
     ]
    }
   ],
   "source": [
    "dataset.info()"
   ]
  },
  {
   "cell_type": "code",
   "execution_count": 4,
   "id": "7ea0f985",
   "metadata": {},
   "outputs": [
    {
     "name": "stdout",
     "output_type": "stream",
     "text": [
      "0         67 m² - Vedi dettaglio\n",
      "1         75 m² - Vedi dettaglio\n",
      "2                         160 m²\n",
      "3                         136 m²\n",
      "4        105 m² - Vedi dettaglio\n",
      "                  ...           \n",
      "37082    110 m² - Vedi dettaglio\n",
      "37083                     180 m²\n",
      "37084     70 m² - Vedi dettaglio\n",
      "37085     55 m² - Vedi dettaglio\n",
      "37086                     176 m²\n",
      "Name: superficie, Length: 37087, dtype: object\n",
      "0         67m²\n",
      "1         75m²\n",
      "2        160m²\n",
      "3        136m²\n",
      "4        105m²\n",
      "         ...  \n",
      "37082    110m²\n",
      "37083    180m²\n",
      "37084     70m²\n",
      "37085     55m²\n",
      "37086    176m²\n",
      "Name: m2, Length: 37087, dtype: object\n"
     ]
    }
   ],
   "source": [
    "# I valori in mq di queste due colonne sono uguali\n",
    "print(dataset['superficie'])\n",
    "print(dataset['m2'])"
   ]
  },
  {
   "cell_type": "code",
   "execution_count": 5,
   "id": "201722b3",
   "metadata": {},
   "outputs": [
    {
     "name": "stdout",
     "output_type": "stream",
     "text": [
      "<class 'pandas.core.frame.DataFrame'>\n",
      "RangeIndex: 37087 entries, 0 to 37086\n",
      "Data columns (total 16 columns):\n",
      " #   Column                       Non-Null Count  Dtype \n",
      "---  ------                       --------------  ----- \n",
      " 0   prezzo                       37087 non-null  object\n",
      " 1   stanze                       37071 non-null  object\n",
      " 2   m2                           36937 non-null  object\n",
      " 3   bagni                        36556 non-null  object\n",
      " 4   piano                        36375 non-null  object\n",
      " 5   description                  37082 non-null  object\n",
      " 6   Riferimento e Data annuncio  37087 non-null  object\n",
      " 7   contratto                    37087 non-null  object\n",
      " 8   tipologia                    37087 non-null  object\n",
      " 9   locali                       35814 non-null  object\n",
      " 10  totale piani edificio        34354 non-null  object\n",
      " 11  other_characteristics        28512 non-null  object\n",
      " 12  citta                        37080 non-null  object\n",
      " 13  quartiere                    35154 non-null  object\n",
      " 14  regione                      37087 non-null  object\n",
      " 15  Posti Auto                   19661 non-null  object\n",
      "dtypes: object(16)\n",
      "memory usage: 4.5+ MB\n"
     ]
    }
   ],
   "source": [
    "# Eliminiamo colonne con maggioranza di null o inutili al nostro scopo\n",
    "columns_to_drop = [9, 12, 16, 19, 20, 21, 22, 23, 24, 25, 26, 27, 28, 29, 30, 31, 32, 33, 34, 35, 36]\n",
    "dataset = dataset.drop(dataset.columns[columns_to_drop], axis = 1)\n",
    "dataset.info()"
   ]
  },
  {
   "cell_type": "code",
   "execution_count": 6,
   "id": "52bab2df",
   "metadata": {
    "scrolled": false
   },
   "outputs": [
    {
     "name": "stdout",
     "output_type": "stream",
     "text": [
      "(1553, 16)\n",
      "(35534, 16)\n"
     ]
    }
   ],
   "source": [
    "# Vogliamo separare in tabelle diverse gli immobili prezzati e quelli con prezzo su richiesta\n",
    "request_price = dataset[dataset['prezzo'].str.contains('prezzo su richiesta', case=False)]\n",
    "dataset = dataset.drop(request_price.index)\n",
    "print(request_price.shape)\n",
    "print(dataset.shape)"
   ]
  },
  {
   "cell_type": "code",
   "execution_count": 7,
   "id": "85d4455f",
   "metadata": {},
   "outputs": [
    {
     "data": {
      "text/plain": [
       "array(['Vendita', 'Vendita - Scarica capitolato',\n",
       "       'Vendita | Immobile a reddito', 'Affitto', 'Affitto, 4+4',\n",
       "       'Affitto, libero', 'Affitto, transitorio', 'Affitto, 3+2',\n",
       "       'Affitto, concordato', 'Affitto, studenti (6-36 mesi)',\n",
       "       'Affitto, 4+4 | Immobile a reddito',\n",
       "       'Affitto, 3+2 | Immobile a reddito',\n",
       "       'Affitto, transitorio | Immobile a reddito',\n",
       "       'Vendita | Affitto con riscatto', 'Affitto, 6+6',\n",
       "       'Affitto | Immobile a reddito',\n",
       "       'Affitto, 4+4 - Scarica capitolato', 'Affitto, 9+9',\n",
       "       'Affitto, studenti (6-36 mesi) | Immobile a reddito',\n",
       "       'Vendita | Immobile a reddito - Scarica capitolato',\n",
       "       'Vendita | Immobile a reddito | Affitto con riscatto',\n",
       "       'Vendita, libero',\n",
       "       'Vendita | Affitto con riscatto - Scarica capitolato',\n",
       "       'Vendita, concordato', 'Vendita, 4+4',\n",
       "       'Vendita, 4+4 | Immobile a reddito',\n",
       "       'Vendita, libero | Immobile a reddito - Scarica capitolato',\n",
       "       'Vendita, libero | Immobile a reddito'], dtype=object)"
      ]
     },
     "execution_count": 7,
     "metadata": {},
     "output_type": "execute_result"
    }
   ],
   "source": [
    "# Separiamo anche gli immobili in vendita da quelli in affitto.\n",
    "# Osservazione: dividere in base ai contratti non è sufficiente\n",
    "# in quanto alcuni presentano sia la parola vendita che affitto\n",
    "dataset['contratto'].unique()"
   ]
  },
  {
   "cell_type": "code",
   "execution_count": 8,
   "id": "034cb294",
   "metadata": {
    "scrolled": true
   },
   "outputs": [
    {
     "name": "stdout",
     "output_type": "stream",
     "text": [
      "(7928, 16)\n",
      "(27606, 16)\n"
     ]
    }
   ],
   "source": [
    "# Abbiamo optato per una strategia di filtraggio basata sulla keyword \"mese\" nella colonna prezzo.\n",
    "for_rent = dataset[dataset['prezzo'].str.contains('mese', case=False)]\n",
    "print(for_rent.shape)\n",
    "dataset = dataset.drop(for_rent.index)\n",
    "print(dataset[dataset['contratto'].str.contains('vendita', case=False)].shape)"
   ]
  },
  {
   "cell_type": "code",
   "execution_count": 9,
   "id": "dd62d99e",
   "metadata": {},
   "outputs": [
    {
     "name": "stdout",
     "output_type": "stream",
     "text": [
      "<class 'pandas.core.frame.DataFrame'>\n",
      "Index: 27606 entries, 0 to 37086\n",
      "Data columns (total 16 columns):\n",
      " #   Column                       Non-Null Count  Dtype \n",
      "---  ------                       --------------  ----- \n",
      " 0   prezzo                       27606 non-null  object\n",
      " 1   stanze                       27602 non-null  object\n",
      " 2   m2                           27536 non-null  object\n",
      " 3   bagni                        27301 non-null  object\n",
      " 4   piano                        27131 non-null  object\n",
      " 5   description                  27606 non-null  object\n",
      " 6   Riferimento e Data annuncio  27606 non-null  object\n",
      " 7   contratto                    27606 non-null  object\n",
      " 8   tipologia                    27606 non-null  object\n",
      " 9   locali                       26510 non-null  object\n",
      " 10  totale piani edificio        26348 non-null  object\n",
      " 11  other_characteristics        27601 non-null  object\n",
      " 12  citta                        27600 non-null  object\n",
      " 13  quartiere                    26326 non-null  object\n",
      " 14  regione                      27606 non-null  object\n",
      " 15  Posti Auto                   15832 non-null  object\n",
      "dtypes: object(16)\n",
      "memory usage: 3.6+ MB\n"
     ]
    }
   ],
   "source": [
    "dataset.drop('contratto', axis=1)\n",
    "dataset.info()"
   ]
  },
  {
   "cell_type": "code",
   "execution_count": 10,
   "id": "1170608a",
   "metadata": {
    "scrolled": false
   },
   "outputs": [],
   "source": [
    "two_prices_house = dataset[dataset['prezzo'].str.contains('-')]\n",
    "dataset = dataset.drop(two_prices_house.index)"
   ]
  },
  {
   "cell_type": "code",
   "execution_count": 11,
   "id": "4e7ac463",
   "metadata": {},
   "outputs": [
    {
     "data": {
      "text/html": [
       "<div>\n",
       "<style scoped>\n",
       "    .dataframe tbody tr th:only-of-type {\n",
       "        vertical-align: middle;\n",
       "    }\n",
       "\n",
       "    .dataframe tbody tr th {\n",
       "        vertical-align: top;\n",
       "    }\n",
       "\n",
       "    .dataframe thead th {\n",
       "        text-align: right;\n",
       "    }\n",
       "</style>\n",
       "<table border=\"1\" class=\"dataframe\">\n",
       "  <thead>\n",
       "    <tr style=\"text-align: right;\">\n",
       "      <th></th>\n",
       "      <th>prezzo</th>\n",
       "      <th>stanze</th>\n",
       "      <th>m2</th>\n",
       "      <th>bagni</th>\n",
       "      <th>piano</th>\n",
       "      <th>description</th>\n",
       "      <th>Riferimento e Data annuncio</th>\n",
       "      <th>contratto</th>\n",
       "      <th>tipologia</th>\n",
       "      <th>locali</th>\n",
       "      <th>totale piani edificio</th>\n",
       "      <th>other_characteristics</th>\n",
       "      <th>citta</th>\n",
       "      <th>quartiere</th>\n",
       "      <th>regione</th>\n",
       "      <th>Posti Auto</th>\n",
       "    </tr>\n",
       "  </thead>\n",
       "  <tbody>\n",
       "    <tr>\n",
       "      <th>0</th>\n",
       "      <td>78000</td>\n",
       "      <td>3</td>\n",
       "      <td>67m²</td>\n",
       "      <td>1</td>\n",
       "      <td>Piano terra, con accesso disabili</td>\n",
       "      <td>Vendesi a Valledoria in Via Alessandro Volta, ...</td>\n",
       "      <td>Daniela - 17/12/2022</td>\n",
       "      <td>Vendita</td>\n",
       "      <td>Appartamento | Intera proprietà | Classe immob...</td>\n",
       "      <td>3 (2 camere da letto, 1 altro), 1 bagno, cucin...</td>\n",
       "      <td>2 piani</td>\n",
       "      <td>['Cancello elettrico', 'Porta blindata', 'Terr...</td>\n",
       "      <td>Valledoria</td>\n",
       "      <td>Via Alessandro Volta</td>\n",
       "      <td>sardegna</td>\n",
       "      <td>NaN</td>\n",
       "    </tr>\n",
       "    <tr>\n",
       "      <th>1</th>\n",
       "      <td>460000</td>\n",
       "      <td>3</td>\n",
       "      <td>75m²</td>\n",
       "      <td>2</td>\n",
       "      <td>1°</td>\n",
       "      <td>Nell’esclusivo comprensorio di Punta Aldìa in ...</td>\n",
       "      <td>698 - 31/03/2023</td>\n",
       "      <td>Vendita</td>\n",
       "      <td>Appartamento | Intera proprietà | Classe immob...</td>\n",
       "      <td>3 (2 camere da letto, 1 altro), 2 bagni, cucin...</td>\n",
       "      <td>1 piano</td>\n",
       "      <td>['Esposizione esterna', 'Balcone', 'Terrazza',...</td>\n",
       "      <td>San Teodoro</td>\n",
       "      <td>NaN</td>\n",
       "      <td>sardegna</td>\n",
       "      <td>1 in parcheggio/garage comune</td>\n",
       "    </tr>\n",
       "    <tr>\n",
       "      <th>2</th>\n",
       "      <td>387000</td>\n",
       "      <td>4</td>\n",
       "      <td>160m²</td>\n",
       "      <td>2</td>\n",
       "      <td>4° piano, con ascensore, con accesso disabili</td>\n",
       "      <td>Via Morgagni, zona residenziale e silenziosa, ...</td>\n",
       "      <td>Via Morgagni_ - 18/04/2023</td>\n",
       "      <td>Vendita</td>\n",
       "      <td>Appartamento | Intera proprietà | Classe immob...</td>\n",
       "      <td>4 (3 camere da letto, 1 altro), 2 bagni, cucin...</td>\n",
       "      <td>6 piani</td>\n",
       "      <td>['Mansarda', 'VideoCitofono', 'Porta blindata'...</td>\n",
       "      <td>Cagliari</td>\n",
       "      <td>Fiera - Monte Mixi</td>\n",
       "      <td>sardegna</td>\n",
       "      <td>NaN</td>\n",
       "    </tr>\n",
       "    <tr>\n",
       "      <th>3</th>\n",
       "      <td>257000</td>\n",
       "      <td>5</td>\n",
       "      <td>136m²</td>\n",
       "      <td>2</td>\n",
       "      <td>4° piano, con ascensore</td>\n",
       "      <td>Nella rinomata Fonsarda, precisamente in via G...</td>\n",
       "      <td>Via Giudicessa_ - 14/04/2023</td>\n",
       "      <td>Vendita</td>\n",
       "      <td>Appartamento | Intera proprietà | Classe immob...</td>\n",
       "      <td>5 (4 camere da letto, 1 altro), 2 bagni, cucin...</td>\n",
       "      <td>NaN</td>\n",
       "      <td>['Infissi esterni in doppio vetro / PVC']</td>\n",
       "      <td>Cagliari</td>\n",
       "      <td>Piazza Giovanni XXIII</td>\n",
       "      <td>sardegna</td>\n",
       "      <td>NaN</td>\n",
       "    </tr>\n",
       "    <tr>\n",
       "      <th>4</th>\n",
       "      <td>370000</td>\n",
       "      <td>3</td>\n",
       "      <td>105m²</td>\n",
       "      <td>2</td>\n",
       "      <td>Piano terra, con accesso disabili</td>\n",
       "      <td>Luminosa villetta bifamiliare semindipendente ...</td>\n",
       "      <td>F3c sud - 31/03/2023</td>\n",
       "      <td>Vendita - Scarica capitolato</td>\n",
       "      <td>Villa bifamiliare | Intera proprietà | Immobil...</td>\n",
       "      <td>3 (2 camere da letto, 1 altro), 2 bagni, cucin...</td>\n",
       "      <td>1 piano</td>\n",
       "      <td>['Terrazza', 'Impianto tv singolo', 'Giardino ...</td>\n",
       "      <td>Budoni</td>\n",
       "      <td>Località Baia Sant'Anna</td>\n",
       "      <td>sardegna</td>\n",
       "      <td>1 in parcheggio/garage comune</td>\n",
       "    </tr>\n",
       "  </tbody>\n",
       "</table>\n",
       "</div>"
      ],
      "text/plain": [
       "   prezzo stanze     m2 bagni                                          piano  \\\n",
       "0   78000      3   67m²     1              Piano terra, con accesso disabili   \n",
       "1  460000      3   75m²     2                                             1°   \n",
       "2  387000      4  160m²     2  4° piano, con ascensore, con accesso disabili   \n",
       "3  257000      5  136m²     2                        4° piano, con ascensore   \n",
       "4  370000      3  105m²     2              Piano terra, con accesso disabili   \n",
       "\n",
       "                                         description  \\\n",
       "0  Vendesi a Valledoria in Via Alessandro Volta, ...   \n",
       "1  Nell’esclusivo comprensorio di Punta Aldìa in ...   \n",
       "2  Via Morgagni, zona residenziale e silenziosa, ...   \n",
       "3  Nella rinomata Fonsarda, precisamente in via G...   \n",
       "4  Luminosa villetta bifamiliare semindipendente ...   \n",
       "\n",
       "    Riferimento e Data annuncio                     contratto  \\\n",
       "0          Daniela - 17/12/2022                       Vendita   \n",
       "1              698 - 31/03/2023                       Vendita   \n",
       "2    Via Morgagni_ - 18/04/2023                       Vendita   \n",
       "3  Via Giudicessa_ - 14/04/2023                       Vendita   \n",
       "4          F3c sud - 31/03/2023  Vendita - Scarica capitolato   \n",
       "\n",
       "                                           tipologia  \\\n",
       "0  Appartamento | Intera proprietà | Classe immob...   \n",
       "1  Appartamento | Intera proprietà | Classe immob...   \n",
       "2  Appartamento | Intera proprietà | Classe immob...   \n",
       "3  Appartamento | Intera proprietà | Classe immob...   \n",
       "4  Villa bifamiliare | Intera proprietà | Immobil...   \n",
       "\n",
       "                                              locali totale piani edificio  \\\n",
       "0  3 (2 camere da letto, 1 altro), 1 bagno, cucin...               2 piani   \n",
       "1  3 (2 camere da letto, 1 altro), 2 bagni, cucin...               1 piano   \n",
       "2  4 (3 camere da letto, 1 altro), 2 bagni, cucin...               6 piani   \n",
       "3  5 (4 camere da letto, 1 altro), 2 bagni, cucin...                   NaN   \n",
       "4  3 (2 camere da letto, 1 altro), 2 bagni, cucin...               1 piano   \n",
       "\n",
       "                               other_characteristics        citta  \\\n",
       "0  ['Cancello elettrico', 'Porta blindata', 'Terr...   Valledoria   \n",
       "1  ['Esposizione esterna', 'Balcone', 'Terrazza',...  San Teodoro   \n",
       "2  ['Mansarda', 'VideoCitofono', 'Porta blindata'...     Cagliari   \n",
       "3          ['Infissi esterni in doppio vetro / PVC']     Cagliari   \n",
       "4  ['Terrazza', 'Impianto tv singolo', 'Giardino ...       Budoni   \n",
       "\n",
       "                 quartiere   regione                     Posti Auto  \n",
       "0     Via Alessandro Volta  sardegna                            NaN  \n",
       "1                      NaN  sardegna  1 in parcheggio/garage comune  \n",
       "2       Fiera - Monte Mixi  sardegna                            NaN  \n",
       "3    Piazza Giovanni XXIII  sardegna                            NaN  \n",
       "4  Località Baia Sant'Anna  sardegna  1 in parcheggio/garage comune  "
      ]
     },
     "execution_count": 11,
     "metadata": {},
     "output_type": "execute_result"
    }
   ],
   "source": [
    "dataset['prezzo'] = dataset['prezzo'].replace(r'\\D', '', regex=True)\n",
    "dataset.head()"
   ]
  },
  {
   "cell_type": "code",
   "execution_count": 14,
   "id": "a9f25206",
   "metadata": {},
   "outputs": [
    {
     "data": {
      "text/plain": [
       "array(['1', '2', '3', '4', nan, '138m²', '151m²', '8', '164m²', 'T',\n",
       "       '130m²', '5', '1 - 2', 'R', '€ 780.000', '179m²', '82m²', '123m²',\n",
       "       '288m²', '156m²', '163m²', '215m²', '158m²', '97m²', '107m²',\n",
       "       '139m²', '127m²', '68m²', '184m²', '95m²', '177m²', '176m²',\n",
       "       '120m²', '2.546m²', '103m²', '257m²', '73m²', '87m²', '85m²',\n",
       "       '122m²', '€ 115.000', '153m²', '13', '183m²', '188m²', '53m²',\n",
       "       '150m²', '70m²', '193.319m²', '99m²', '140m²', '162m²', '169m²',\n",
       "       '267m²', '136m²', '185m²', '88m²', '7.130m²', '50m²', 'S - T',\n",
       "       '391m²', '146m²', '89m²', '449m²', '193m²', '64m²', '242m²',\n",
       "       '247m²', '90m²', '608m²', '63m²', '233m²', '429m²', '154m²',\n",
       "       '40m²', '69m²', '338m²', '367m²', '160m²', '129m²', '551m²',\n",
       "       '106m²', '92m²', '109m²', '7', '192m²', '56m²', '134m²', '304m²',\n",
       "       '100m²', '225m²', '241m²', '135m²', '157m²', '200m²', '603m²',\n",
       "       '274m²', '262m²', '84m²', '170m²', '104m²', '121m²', '11', '148m²',\n",
       "       '98m²', '142m²', '566m²', '282m²', '6', '599m²', '171m²', '488m²',\n",
       "       '946m²', '180m²', '795m²', '65m²', '79m²', '55m²', '44m²', '38m²',\n",
       "       '165m²'], dtype=object)"
      ]
     },
     "execution_count": 14,
     "metadata": {},
     "output_type": "execute_result"
    }
   ],
   "source": [
    "# Valori bagni Nan possono essere sostituiti con 1? O vanno levati?\n",
    "\n",
    "dataset['bagni'] = dataset['bagni'].replace('3+', '4')\n",
    "dataset['bagni'].unique()"
   ]
  },
  {
   "cell_type": "code",
   "execution_count": null,
   "id": "42e4045a",
   "metadata": {},
   "outputs": [],
   "source": []
  }
 ],
 "metadata": {
  "kernelspec": {
   "display_name": "IDSvenv",
   "language": "python",
   "name": "idsvenv"
  },
  "language_info": {
   "codemirror_mode": {
    "name": "ipython",
    "version": 3
   },
   "file_extension": ".py",
   "mimetype": "text/x-python",
   "name": "python",
   "nbconvert_exporter": "python",
   "pygments_lexer": "ipython3",
   "version": "3.12.3"
  }
 },
 "nbformat": 4,
 "nbformat_minor": 5
}
